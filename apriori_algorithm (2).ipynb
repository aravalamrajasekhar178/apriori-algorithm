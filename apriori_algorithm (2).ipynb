{
  "nbformat": 4,
  "nbformat_minor": 0,
  "metadata": {
    "colab": {
      "provenance": []
    },
    "kernelspec": {
      "name": "python3",
      "display_name": "Python 3"
    },
    "language_info": {
      "name": "python"
    }
  },
  "cells": [
    {
      "cell_type": "markdown",
      "source": [
        "# Apriori Algorithm\n",
        "\n",
        "* Apriori algorithm is used to find out the most frequently and commonly purchased itemset in the market"
      ],
      "metadata": {
        "id": "rZ2Xk9BjCdkf"
      }
    },
    {
      "cell_type": "code",
      "execution_count": 56,
      "metadata": {
        "id": "p_rg0Sc1hgRX"
      },
      "outputs": [],
      "source": [
        "import pandas as pd"
      ]
    },
    {
      "cell_type": "code",
      "source": [
        "df=pd.DataFrame({'transaction_id':[1,2,3,4],'items_list':[['i1','i3','i4'],['i2','i3','i5'],['i1','i2','i3','i5'],['i2','i5']]})"
      ],
      "metadata": {
        "id": "UM1FPLRTh_kW"
      },
      "execution_count": 57,
      "outputs": []
    },
    {
      "cell_type": "markdown",
      "source": [
        "* The dataset consists of 2 columns :\n",
        "\n",
        "1. transaction_id : tells the transaction id of the set of items purchased\n",
        "\n",
        "2. items_list : describes the name of the item"
      ],
      "metadata": {
        "id": "ZsWzYtw6Cyxw"
      }
    },
    {
      "cell_type": "code",
      "source": [
        "x=[]\n",
        "for i in df['items_list']:\n",
        "  x.extend(i)\n",
        "x=list(set(x))"
      ],
      "metadata": {
        "id": "IBRHHXiiiDlR"
      },
      "execution_count": 58,
      "outputs": []
    },
    {
      "cell_type": "code",
      "source": [
        "y,z,w,k,dup=[],[],[],1,[]\n",
        "for i in x:\n",
        "  dup.append([i])\n",
        "x=dup\n",
        "count=[0]*len(x)"
      ],
      "metadata": {
        "id": "LFJh9xgOlD9i"
      },
      "execution_count": 59,
      "outputs": []
    },
    {
      "cell_type": "code",
      "source": [
        "x[0]"
      ],
      "metadata": {
        "colab": {
          "base_uri": "https://localhost:8080/"
        },
        "id": "ypdKmT4g1vm6",
        "outputId": "e63bc199-1c41-4e80-94a8-097635d35df5"
      },
      "execution_count": 60,
      "outputs": [
        {
          "output_type": "execute_result",
          "data": {
            "text/plain": [
              "['i3']"
            ]
          },
          "metadata": {},
          "execution_count": 60
        }
      ]
    },
    {
      "cell_type": "code",
      "source": [
        "while True:\n",
        "  k+=1\n",
        "  i,j=0,0\n",
        "  while i<len(x):\n",
        "    c=0\n",
        "    for l in x[i]:\n",
        "      if l in df['items_list'][j]:\n",
        "        c+=1\n",
        "    if c==len(x[i]):\n",
        "      count[i]+=1\n",
        "    j+=1\n",
        "    if j==len(df):\n",
        "      print(x[i],count[i])\n",
        "      i+=1\n",
        "      j=0\n",
        "  w,y,v=[],[],0\n",
        "  while v<len(count):\n",
        "    if count[v]>1:\n",
        "      y.append(x[v])\n",
        "      w.append([x[v],count[v]])\n",
        "    v+=1\n",
        "  def d(u):\n",
        "    return u[1]\n",
        "  if len(w)>0:\n",
        "    z.extend(sorted(w,key=d))\n",
        "  if len(y)>1:\n",
        "    i,j,x=0,1,[]\n",
        "    while i<len(y)-k+1:\n",
        "      m=list(set(y[i]+y[j]))\n",
        "      if len(m)==k and m not in x:\n",
        "        x.append(m)\n",
        "      j+=1\n",
        "      if j==len(y):\n",
        "        i+=1\n",
        "        j=i+1\n",
        "    if len(x)>0:\n",
        "      count=[0]*len(x)\n",
        "  else:\n",
        "    break"
      ],
      "metadata": {
        "colab": {
          "base_uri": "https://localhost:8080/"
        },
        "id": "s3bR8iHvl2-z",
        "outputId": "64fa2e68-b4a7-4a4c-d626-b4288dfa51e3"
      },
      "execution_count": 61,
      "outputs": [
        {
          "output_type": "stream",
          "name": "stdout",
          "text": [
            "['i3'] 3\n",
            "['i1'] 2\n",
            "['i4'] 1\n",
            "['i2'] 3\n",
            "['i5'] 3\n",
            "['i1', 'i3'] 2\n",
            "['i2', 'i3'] 2\n",
            "['i5', 'i3'] 2\n",
            "['i1', 'i2'] 1\n",
            "['i1', 'i5'] 1\n",
            "['i2', 'i5'] 3\n",
            "['i1', 'i2', 'i3'] 1\n",
            "['i1', 'i5', 'i3'] 1\n",
            "['i2', 'i5', 'i3'] 2\n"
          ]
        }
      ]
    },
    {
      "cell_type": "code",
      "source": [
        "z.reverse()\n",
        "items_sets,support_count=[],[]\n",
        "for i in z:\n",
        "  items_sets.append(i[0])\n",
        "  support_count.append(i[1])\n",
        "df1=pd.DataFrame({'items_sets':items_sets,'support_count':support_count})"
      ],
      "metadata": {
        "id": "0zv_T5R5AaDZ"
      },
      "execution_count": 67,
      "outputs": []
    },
    {
      "cell_type": "markdown",
      "source": [
        "# Itemsets and their support counts"
      ],
      "metadata": {
        "id": "MAXH6Ukx_ONS"
      }
    },
    {
      "cell_type": "code",
      "source": [
        "df1"
      ],
      "metadata": {
        "id": "NjnL06G7ssLE",
        "colab": {
          "base_uri": "https://localhost:8080/",
          "height": 332
        },
        "outputId": "a083aaaa-62f7-4c18-9064-ef9ed7484401"
      },
      "execution_count": 68,
      "outputs": [
        {
          "output_type": "execute_result",
          "data": {
            "text/plain": [
              "     items_sets  support_count\n",
              "0  [i2, i5, i3]              2\n",
              "1      [i2, i5]              3\n",
              "2      [i5, i3]              2\n",
              "3      [i2, i3]              2\n",
              "4      [i1, i3]              2\n",
              "5          [i5]              3\n",
              "6          [i2]              3\n",
              "7          [i3]              3\n",
              "8          [i1]              2"
            ],
            "text/html": [
              "\n",
              "  <div id=\"df-e0563514-d1bf-4e17-bb34-e0c088307fb5\">\n",
              "    <div class=\"colab-df-container\">\n",
              "      <div>\n",
              "<style scoped>\n",
              "    .dataframe tbody tr th:only-of-type {\n",
              "        vertical-align: middle;\n",
              "    }\n",
              "\n",
              "    .dataframe tbody tr th {\n",
              "        vertical-align: top;\n",
              "    }\n",
              "\n",
              "    .dataframe thead th {\n",
              "        text-align: right;\n",
              "    }\n",
              "</style>\n",
              "<table border=\"1\" class=\"dataframe\">\n",
              "  <thead>\n",
              "    <tr style=\"text-align: right;\">\n",
              "      <th></th>\n",
              "      <th>items_sets</th>\n",
              "      <th>support_count</th>\n",
              "    </tr>\n",
              "  </thead>\n",
              "  <tbody>\n",
              "    <tr>\n",
              "      <th>0</th>\n",
              "      <td>[i2, i5, i3]</td>\n",
              "      <td>2</td>\n",
              "    </tr>\n",
              "    <tr>\n",
              "      <th>1</th>\n",
              "      <td>[i2, i5]</td>\n",
              "      <td>3</td>\n",
              "    </tr>\n",
              "    <tr>\n",
              "      <th>2</th>\n",
              "      <td>[i5, i3]</td>\n",
              "      <td>2</td>\n",
              "    </tr>\n",
              "    <tr>\n",
              "      <th>3</th>\n",
              "      <td>[i2, i3]</td>\n",
              "      <td>2</td>\n",
              "    </tr>\n",
              "    <tr>\n",
              "      <th>4</th>\n",
              "      <td>[i1, i3]</td>\n",
              "      <td>2</td>\n",
              "    </tr>\n",
              "    <tr>\n",
              "      <th>5</th>\n",
              "      <td>[i5]</td>\n",
              "      <td>3</td>\n",
              "    </tr>\n",
              "    <tr>\n",
              "      <th>6</th>\n",
              "      <td>[i2]</td>\n",
              "      <td>3</td>\n",
              "    </tr>\n",
              "    <tr>\n",
              "      <th>7</th>\n",
              "      <td>[i3]</td>\n",
              "      <td>3</td>\n",
              "    </tr>\n",
              "    <tr>\n",
              "      <th>8</th>\n",
              "      <td>[i1]</td>\n",
              "      <td>2</td>\n",
              "    </tr>\n",
              "  </tbody>\n",
              "</table>\n",
              "</div>\n",
              "      <button class=\"colab-df-convert\" onclick=\"convertToInteractive('df-e0563514-d1bf-4e17-bb34-e0c088307fb5')\"\n",
              "              title=\"Convert this dataframe to an interactive table.\"\n",
              "              style=\"display:none;\">\n",
              "        \n",
              "  <svg xmlns=\"http://www.w3.org/2000/svg\" height=\"24px\"viewBox=\"0 0 24 24\"\n",
              "       width=\"24px\">\n",
              "    <path d=\"M0 0h24v24H0V0z\" fill=\"none\"/>\n",
              "    <path d=\"M18.56 5.44l.94 2.06.94-2.06 2.06-.94-2.06-.94-.94-2.06-.94 2.06-2.06.94zm-11 1L8.5 8.5l.94-2.06 2.06-.94-2.06-.94L8.5 2.5l-.94 2.06-2.06.94zm10 10l.94 2.06.94-2.06 2.06-.94-2.06-.94-.94-2.06-.94 2.06-2.06.94z\"/><path d=\"M17.41 7.96l-1.37-1.37c-.4-.4-.92-.59-1.43-.59-.52 0-1.04.2-1.43.59L10.3 9.45l-7.72 7.72c-.78.78-.78 2.05 0 2.83L4 21.41c.39.39.9.59 1.41.59.51 0 1.02-.2 1.41-.59l7.78-7.78 2.81-2.81c.8-.78.8-2.07 0-2.86zM5.41 20L4 18.59l7.72-7.72 1.47 1.35L5.41 20z\"/>\n",
              "  </svg>\n",
              "      </button>\n",
              "      \n",
              "  <style>\n",
              "    .colab-df-container {\n",
              "      display:flex;\n",
              "      flex-wrap:wrap;\n",
              "      gap: 12px;\n",
              "    }\n",
              "\n",
              "    .colab-df-convert {\n",
              "      background-color: #E8F0FE;\n",
              "      border: none;\n",
              "      border-radius: 50%;\n",
              "      cursor: pointer;\n",
              "      display: none;\n",
              "      fill: #1967D2;\n",
              "      height: 32px;\n",
              "      padding: 0 0 0 0;\n",
              "      width: 32px;\n",
              "    }\n",
              "\n",
              "    .colab-df-convert:hover {\n",
              "      background-color: #E2EBFA;\n",
              "      box-shadow: 0px 1px 2px rgba(60, 64, 67, 0.3), 0px 1px 3px 1px rgba(60, 64, 67, 0.15);\n",
              "      fill: #174EA6;\n",
              "    }\n",
              "\n",
              "    [theme=dark] .colab-df-convert {\n",
              "      background-color: #3B4455;\n",
              "      fill: #D2E3FC;\n",
              "    }\n",
              "\n",
              "    [theme=dark] .colab-df-convert:hover {\n",
              "      background-color: #434B5C;\n",
              "      box-shadow: 0px 1px 3px 1px rgba(0, 0, 0, 0.15);\n",
              "      filter: drop-shadow(0px 1px 2px rgba(0, 0, 0, 0.3));\n",
              "      fill: #FFFFFF;\n",
              "    }\n",
              "  </style>\n",
              "\n",
              "      <script>\n",
              "        const buttonEl =\n",
              "          document.querySelector('#df-e0563514-d1bf-4e17-bb34-e0c088307fb5 button.colab-df-convert');\n",
              "        buttonEl.style.display =\n",
              "          google.colab.kernel.accessAllowed ? 'block' : 'none';\n",
              "\n",
              "        async function convertToInteractive(key) {\n",
              "          const element = document.querySelector('#df-e0563514-d1bf-4e17-bb34-e0c088307fb5');\n",
              "          const dataTable =\n",
              "            await google.colab.kernel.invokeFunction('convertToInteractive',\n",
              "                                                     [key], {});\n",
              "          if (!dataTable) return;\n",
              "\n",
              "          const docLinkHtml = 'Like what you see? Visit the ' +\n",
              "            '<a target=\"_blank\" href=https://colab.research.google.com/notebooks/data_table.ipynb>data table notebook</a>'\n",
              "            + ' to learn more about interactive tables.';\n",
              "          element.innerHTML = '';\n",
              "          dataTable['output_type'] = 'display_data';\n",
              "          await google.colab.output.renderOutput(dataTable, element);\n",
              "          const docLink = document.createElement('div');\n",
              "          docLink.innerHTML = docLinkHtml;\n",
              "          element.appendChild(docLink);\n",
              "        }\n",
              "      </script>\n",
              "    </div>\n",
              "  </div>\n",
              "  "
            ]
          },
          "metadata": {},
          "execution_count": 68
        }
      ]
    },
    {
      "cell_type": "markdown",
      "source": [
        "# The itemset which have highest support count is **[i2,i5,i3] => 2** which means people are more frequently and commonly purchasing i2,i5,i3 items in associative manner"
      ],
      "metadata": {
        "id": "VpcI5wWBBPxY"
      }
    }
  ]
}